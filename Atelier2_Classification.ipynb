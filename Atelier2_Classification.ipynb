{
 "cells": [
  {
   "cell_type": "markdown",
   "id": "e5bd06fe",
   "metadata": {},
   "source": [
    "# Atelier 2 «Classification»"
   ]
  },
  {
   "cell_type": "markdown",
   "id": "c14514ed",
   "metadata": {},
   "source": [
    "# Partie 1 (Data Visualisation et Feature Selection et Normalisation):"
   ]
  },
  {
   "cell_type": "markdown",
   "id": "40e55ff3",
   "metadata": {},
   "source": [
    "1. En utilisant pandas essayer d’explorer les données du Data set."
   ]
  },
  {
   "cell_type": "code",
   "execution_count": 1,
   "id": "7a3a34b5",
   "metadata": {},
   "outputs": [],
   "source": [
    "import pandas as pd"
   ]
  },
  {
   "cell_type": "code",
   "execution_count": 2,
   "id": "de63a47e",
   "metadata": {},
   "outputs": [],
   "source": [
    "# avoid warnings \n",
    "import warnings \n",
    "warnings.filterwarnings('ignore')\n",
    "%matplotlib inline"
   ]
  },
  {
   "cell_type": "code",
   "execution_count": 3,
   "id": "5caca55a",
   "metadata": {},
   "outputs": [
    {
     "data": {
      "text/html": [
       "<div>\n",
       "<style scoped>\n",
       "    .dataframe tbody tr th:only-of-type {\n",
       "        vertical-align: middle;\n",
       "    }\n",
       "\n",
       "    .dataframe tbody tr th {\n",
       "        vertical-align: top;\n",
       "    }\n",
       "\n",
       "    .dataframe thead th {\n",
       "        text-align: right;\n",
       "    }\n",
       "</style>\n",
       "<table border=\"1\" class=\"dataframe\">\n",
       "  <thead>\n",
       "    <tr style=\"text-align: right;\">\n",
       "      <th></th>\n",
       "      <th>Preg</th>\n",
       "      <th>Glucose</th>\n",
       "      <th>Pres</th>\n",
       "      <th>Skin</th>\n",
       "      <th>Insulin</th>\n",
       "      <th>BMI</th>\n",
       "      <th>Pedi</th>\n",
       "      <th>Age</th>\n",
       "      <th>Outcome</th>\n",
       "    </tr>\n",
       "  </thead>\n",
       "  <tbody>\n",
       "    <tr>\n",
       "      <th>0</th>\n",
       "      <td>6</td>\n",
       "      <td>148</td>\n",
       "      <td>72</td>\n",
       "      <td>35</td>\n",
       "      <td>0</td>\n",
       "      <td>33.6</td>\n",
       "      <td>0.627</td>\n",
       "      <td>50</td>\n",
       "      <td>1</td>\n",
       "    </tr>\n",
       "    <tr>\n",
       "      <th>1</th>\n",
       "      <td>1</td>\n",
       "      <td>85</td>\n",
       "      <td>66</td>\n",
       "      <td>29</td>\n",
       "      <td>0</td>\n",
       "      <td>26.6</td>\n",
       "      <td>0.351</td>\n",
       "      <td>31</td>\n",
       "      <td>0</td>\n",
       "    </tr>\n",
       "    <tr>\n",
       "      <th>2</th>\n",
       "      <td>8</td>\n",
       "      <td>183</td>\n",
       "      <td>64</td>\n",
       "      <td>0</td>\n",
       "      <td>0</td>\n",
       "      <td>23.3</td>\n",
       "      <td>0.672</td>\n",
       "      <td>32</td>\n",
       "      <td>1</td>\n",
       "    </tr>\n",
       "    <tr>\n",
       "      <th>3</th>\n",
       "      <td>1</td>\n",
       "      <td>89</td>\n",
       "      <td>66</td>\n",
       "      <td>23</td>\n",
       "      <td>94</td>\n",
       "      <td>28.1</td>\n",
       "      <td>0.167</td>\n",
       "      <td>21</td>\n",
       "      <td>0</td>\n",
       "    </tr>\n",
       "    <tr>\n",
       "      <th>4</th>\n",
       "      <td>0</td>\n",
       "      <td>137</td>\n",
       "      <td>40</td>\n",
       "      <td>35</td>\n",
       "      <td>168</td>\n",
       "      <td>43.1</td>\n",
       "      <td>2.288</td>\n",
       "      <td>33</td>\n",
       "      <td>1</td>\n",
       "    </tr>\n",
       "  </tbody>\n",
       "</table>\n",
       "</div>"
      ],
      "text/plain": [
       "   Preg  Glucose  Pres  Skin  Insulin   BMI   Pedi  Age  Outcome\n",
       "0     6      148    72    35        0  33.6  0.627   50        1\n",
       "1     1       85    66    29        0  26.6  0.351   31        0\n",
       "2     8      183    64     0        0  23.3  0.672   32        1\n",
       "3     1       89    66    23       94  28.1  0.167   21        0\n",
       "4     0      137    40    35      168  43.1  2.288   33        1"
      ]
     },
     "execution_count": 3,
     "metadata": {},
     "output_type": "execute_result"
    }
   ],
   "source": [
    "columns=[\"Preg\",\"Glucose\",\"Pres\",\"Skin\",\"Insulin\",\"BMI\",\"Pedi\",\"Age\",\"Outcome\"]\n",
    "df=pd.read_csv(\"pima-indians-diabetes.csv\", names=columns)\n",
    "df.head()"
   ]
  },
  {
   "cell_type": "markdown",
   "id": "0441b03c",
   "metadata": {},
   "source": [
    "2. Afficher le résumer statistique du Data Sets avec une interprétation des résultats obtenues."
   ]
  },
  {
   "cell_type": "code",
   "execution_count": 4,
   "id": "5b89bade",
   "metadata": {},
   "outputs": [
    {
     "data": {
      "text/html": [
       "<div>\n",
       "<style scoped>\n",
       "    .dataframe tbody tr th:only-of-type {\n",
       "        vertical-align: middle;\n",
       "    }\n",
       "\n",
       "    .dataframe tbody tr th {\n",
       "        vertical-align: top;\n",
       "    }\n",
       "\n",
       "    .dataframe thead th {\n",
       "        text-align: right;\n",
       "    }\n",
       "</style>\n",
       "<table border=\"1\" class=\"dataframe\">\n",
       "  <thead>\n",
       "    <tr style=\"text-align: right;\">\n",
       "      <th></th>\n",
       "      <th>Preg</th>\n",
       "      <th>Glucose</th>\n",
       "      <th>Pres</th>\n",
       "      <th>Skin</th>\n",
       "      <th>Insulin</th>\n",
       "      <th>BMI</th>\n",
       "      <th>Pedi</th>\n",
       "      <th>Age</th>\n",
       "      <th>Outcome</th>\n",
       "    </tr>\n",
       "  </thead>\n",
       "  <tbody>\n",
       "    <tr>\n",
       "      <th>count</th>\n",
       "      <td>768.000000</td>\n",
       "      <td>768.000000</td>\n",
       "      <td>768.000000</td>\n",
       "      <td>768.000000</td>\n",
       "      <td>768.000000</td>\n",
       "      <td>768.000000</td>\n",
       "      <td>768.000000</td>\n",
       "      <td>768.000000</td>\n",
       "      <td>768.000000</td>\n",
       "    </tr>\n",
       "    <tr>\n",
       "      <th>mean</th>\n",
       "      <td>3.845052</td>\n",
       "      <td>120.894531</td>\n",
       "      <td>69.105469</td>\n",
       "      <td>20.536458</td>\n",
       "      <td>79.799479</td>\n",
       "      <td>31.992578</td>\n",
       "      <td>0.471876</td>\n",
       "      <td>33.240885</td>\n",
       "      <td>0.348958</td>\n",
       "    </tr>\n",
       "    <tr>\n",
       "      <th>std</th>\n",
       "      <td>3.369578</td>\n",
       "      <td>31.972618</td>\n",
       "      <td>19.355807</td>\n",
       "      <td>15.952218</td>\n",
       "      <td>115.244002</td>\n",
       "      <td>7.884160</td>\n",
       "      <td>0.331329</td>\n",
       "      <td>11.760232</td>\n",
       "      <td>0.476951</td>\n",
       "    </tr>\n",
       "    <tr>\n",
       "      <th>min</th>\n",
       "      <td>0.000000</td>\n",
       "      <td>0.000000</td>\n",
       "      <td>0.000000</td>\n",
       "      <td>0.000000</td>\n",
       "      <td>0.000000</td>\n",
       "      <td>0.000000</td>\n",
       "      <td>0.078000</td>\n",
       "      <td>21.000000</td>\n",
       "      <td>0.000000</td>\n",
       "    </tr>\n",
       "    <tr>\n",
       "      <th>25%</th>\n",
       "      <td>1.000000</td>\n",
       "      <td>99.000000</td>\n",
       "      <td>62.000000</td>\n",
       "      <td>0.000000</td>\n",
       "      <td>0.000000</td>\n",
       "      <td>27.300000</td>\n",
       "      <td>0.243750</td>\n",
       "      <td>24.000000</td>\n",
       "      <td>0.000000</td>\n",
       "    </tr>\n",
       "    <tr>\n",
       "      <th>50%</th>\n",
       "      <td>3.000000</td>\n",
       "      <td>117.000000</td>\n",
       "      <td>72.000000</td>\n",
       "      <td>23.000000</td>\n",
       "      <td>30.500000</td>\n",
       "      <td>32.000000</td>\n",
       "      <td>0.372500</td>\n",
       "      <td>29.000000</td>\n",
       "      <td>0.000000</td>\n",
       "    </tr>\n",
       "    <tr>\n",
       "      <th>75%</th>\n",
       "      <td>6.000000</td>\n",
       "      <td>140.250000</td>\n",
       "      <td>80.000000</td>\n",
       "      <td>32.000000</td>\n",
       "      <td>127.250000</td>\n",
       "      <td>36.600000</td>\n",
       "      <td>0.626250</td>\n",
       "      <td>41.000000</td>\n",
       "      <td>1.000000</td>\n",
       "    </tr>\n",
       "    <tr>\n",
       "      <th>max</th>\n",
       "      <td>17.000000</td>\n",
       "      <td>199.000000</td>\n",
       "      <td>122.000000</td>\n",
       "      <td>99.000000</td>\n",
       "      <td>846.000000</td>\n",
       "      <td>67.100000</td>\n",
       "      <td>2.420000</td>\n",
       "      <td>81.000000</td>\n",
       "      <td>1.000000</td>\n",
       "    </tr>\n",
       "  </tbody>\n",
       "</table>\n",
       "</div>"
      ],
      "text/plain": [
       "             Preg     Glucose        Pres        Skin     Insulin         BMI  \\\n",
       "count  768.000000  768.000000  768.000000  768.000000  768.000000  768.000000   \n",
       "mean     3.845052  120.894531   69.105469   20.536458   79.799479   31.992578   \n",
       "std      3.369578   31.972618   19.355807   15.952218  115.244002    7.884160   \n",
       "min      0.000000    0.000000    0.000000    0.000000    0.000000    0.000000   \n",
       "25%      1.000000   99.000000   62.000000    0.000000    0.000000   27.300000   \n",
       "50%      3.000000  117.000000   72.000000   23.000000   30.500000   32.000000   \n",
       "75%      6.000000  140.250000   80.000000   32.000000  127.250000   36.600000   \n",
       "max     17.000000  199.000000  122.000000   99.000000  846.000000   67.100000   \n",
       "\n",
       "             Pedi         Age     Outcome  \n",
       "count  768.000000  768.000000  768.000000  \n",
       "mean     0.471876   33.240885    0.348958  \n",
       "std      0.331329   11.760232    0.476951  \n",
       "min      0.078000   21.000000    0.000000  \n",
       "25%      0.243750   24.000000    0.000000  \n",
       "50%      0.372500   29.000000    0.000000  \n",
       "75%      0.626250   41.000000    1.000000  \n",
       "max      2.420000   81.000000    1.000000  "
      ]
     },
     "execution_count": 4,
     "metadata": {},
     "output_type": "execute_result"
    }
   ],
   "source": [
    "df.describe()"
   ]
  },
  {
   "cell_type": "markdown",
   "id": "5102891b",
   "metadata": {},
   "source": [
    "Interprétation :\n",
    "- count : le nombre d’enregistrement dans la Data sets.\n",
    "- mean : la moyenne de chaque colonne.\n",
    "- std : l’écart-type de chaque colonne.\n",
    "- min : la valeur minimale de chaque colonne.\n",
    "- 25% et 75% : les interquartiles de chaque colonne.\n",
    "- max : la valeur maximale de chaque colonne."
   ]
  },
  {
   "cell_type": "markdown",
   "id": "13142ab2",
   "metadata": {},
   "source": [
    "3. Afficher les nuages des points du data set selon les propriétés « Features » en utilisant matplotlib et\n",
    "pandas « scatter_matrix »."
   ]
  },
  {
   "cell_type": "code",
   "execution_count": 5,
   "id": "88585635",
   "metadata": {},
   "outputs": [],
   "source": [
    "import matplotlib.pyplot as plt\n",
    "from pandas.plotting import scatter_matrix\n"
   ]
  },
  {
   "cell_type": "code",
   "execution_count": 6,
   "id": "d1d99279",
   "metadata": {},
   "outputs": [
    {
     "data": {
      "image/png": "[encoded data removed]",
      "text/plain": [
       "<Figure size 432x288 with 81 Axes>"
      ]
     },
     "metadata": {
      "needs_background": "light"
     },
     "output_type": "display_data"
    }
   ],
   "source": [
    "scatter_matrix(df)\n",
    "plt.show()"
   ]
  },
  {
   "cell_type": "markdown",
   "id": "ae7d6b19",
   "metadata": {},
   "source": [
    "4. Appliquer les 4 méthodes de Features selection « Univariate Selection, PCA, Recursive Feature\n",
    "Elimination et Feature Importance »."
   ]
  },
  {
   "cell_type": "markdown",
   "id": "7df35d32",
   "metadata": {},
   "source": [
    "# Univariate Selection"
   ]
  },
  {
   "cell_type": "code",
   "execution_count": 7,
   "id": "b16c58ac",
   "metadata": {},
   "outputs": [],
   "source": [
    "from sklearn.feature_selection import SelectKBest\n",
    "from sklearn.feature_selection import chi2\n",
    "import numpy as np"
   ]
  },
  {
   "cell_type": "code",
   "execution_count": 8,
   "id": "72c0d706",
   "metadata": {},
   "outputs": [],
   "source": [
    "array = df.values\n",
    "X = array[:,0:8]\n",
    "Y = array[:,8]"
   ]
  },
  {
   "cell_type": "code",
   "execution_count": 9,
   "id": "5724fd7f",
   "metadata": {},
   "outputs": [],
   "source": [
    "# feature extraction\n",
    "test = SelectKBest(score_func=chi2, k=2)\n",
    "fit = test.fit(X, Y)"
   ]
  },
  {
   "cell_type": "code",
   "execution_count": 10,
   "id": "898a9150",
   "metadata": {},
   "outputs": [
    {
     "name": "stdout",
     "output_type": "stream",
     "text": [
      "['Preg', 'Glucose', 'Pres', 'Skin', 'Insulin', 'BMI', 'Pedi', 'Age', 'Outcome']\n",
      "[ 111.52  1411.887   17.605   53.108 2175.565  127.669    5.393  181.304]\n"
     ]
    }
   ],
   "source": [
    "# summarize scores\n",
    "np.set_printoptions(precision=3)\n",
    "col = [\"Preg\",\"Glucose\",\"Pres\",\"Skin\",\"Insulin\",\"BMI\",\"Pedi\",\"Age\",\"Outcome\"]\n",
    "print(columns)\n",
    "print(fit.scores_)\n",
    "\n",
    "features = fit.transform(X)\n",
    "\n",
    "# summarize selected features\n",
    "#print(features[:,:])"
   ]
  },
  {
   "cell_type": "markdown",
   "id": "e9f27b5e",
   "metadata": {},
   "source": [
    "# Principal Component Analysis,PCA"
   ]
  },
  {
   "cell_type": "code",
   "execution_count": 11,
   "id": "19b78188",
   "metadata": {},
   "outputs": [],
   "source": [
    "from sklearn.decomposition import PCA"
   ]
  },
  {
   "cell_type": "code",
   "execution_count": 12,
   "id": "b1af7631",
   "metadata": {},
   "outputs": [
    {
     "name": "stdout",
     "output_type": "stream",
     "text": [
      "Explained Variance: [0.889 0.062 0.026]\n",
      "[[-2.022e-03  9.781e-02  1.609e-02  6.076e-02  9.931e-01  1.401e-02\n",
      "   5.372e-04 -3.565e-03]\n",
      " [-2.265e-02 -9.722e-01 -1.419e-01  5.786e-02  9.463e-02 -4.697e-02\n",
      "  -8.168e-04 -1.402e-01]\n",
      " [-2.246e-02  1.434e-01 -9.225e-01 -3.070e-01  2.098e-02 -1.324e-01\n",
      "  -6.400e-04 -1.255e-01]]\n"
     ]
    }
   ],
   "source": [
    "pca = PCA(n_components=3)\n",
    "fit = pca.fit(X)\n",
    "\n",
    "# summarize components\n",
    "print(\"Explained Variance: %s\" % fit.explained_variance_ratio_)\n",
    "print(fit.components_)"
   ]
  },
  {
   "cell_type": "markdown",
   "id": "49278a1b",
   "metadata": {},
   "source": [
    "# Recursive Feature Elimination, RFE"
   ]
  },
  {
   "cell_type": "code",
   "execution_count": 13,
   "id": "0a8a9913",
   "metadata": {},
   "outputs": [],
   "source": [
    "from sklearn.feature_selection import RFE\n",
    "from sklearn.linear_model import LogisticRegression"
   ]
  },
  {
   "cell_type": "code",
   "execution_count": 14,
   "id": "6492f64b",
   "metadata": {},
   "outputs": [
    {
     "name": "stdout",
     "output_type": "stream",
     "text": [
      "Num Features: 3\n",
      "Selected Features: [ True False False False False  True  True False]\n",
      "Feature Ranking: [1 2 4 5 6 1 1 3]\n"
     ]
    }
   ],
   "source": [
    "model = LogisticRegression()\n",
    "rfe = RFE(model, n_features_to_select=3)\n",
    "fit = rfe.fit(X, Y)\n",
    "\n",
    "print(\"Num Features: %d\" % fit.n_features_)\n",
    "print(\"Selected Features: %s\" % fit.support_)\n",
    "print(\"Feature Ranking: %s\" % fit.ranking_)"
   ]
  },
  {
   "cell_type": "markdown",
   "id": "be5109e0",
   "metadata": {},
   "source": [
    "# Feature Importance, FI"
   ]
  },
  {
   "cell_type": "code",
   "execution_count": 15,
   "id": "fd389463",
   "metadata": {},
   "outputs": [],
   "source": [
    "from sklearn.ensemble import ExtraTreesClassifier"
   ]
  },
  {
   "cell_type": "code",
   "execution_count": 16,
   "id": "9497afc7",
   "metadata": {},
   "outputs": [
    {
     "name": "stdout",
     "output_type": "stream",
     "text": [
      "[0.109 0.23  0.095 0.081 0.075 0.146 0.119 0.145]\n"
     ]
    }
   ],
   "source": [
    "model = ExtraTreesClassifier()\n",
    "model.fit(X, Y)\n",
    "print(model.feature_importances_)"
   ]
  },
  {
   "cell_type": "markdown",
   "id": "5a2b5933",
   "metadata": {},
   "source": [
    "5. Normaliser les données des attributs qui nécessitent une normalisation."
   ]
  },
  {
   "cell_type": "code",
   "execution_count": 18,
   "id": "3d493939",
   "metadata": {},
   "outputs": [
    {
     "name": "stdout",
     "output_type": "stream",
     "text": [
      "MinMaxScaler()\n"
     ]
    }
   ],
   "source": [
    "#MinMax Scaler\n",
    "from sklearn.preprocessing import MinMaxScaler\n",
    "scaler = MinMaxScaler()\n",
    "print(scaler.fit(df))"
   ]
  },
  {
   "cell_type": "code",
   "execution_count": 19,
   "id": "2838ddf8",
   "metadata": {},
   "outputs": [
    {
     "name": "stdout",
     "output_type": "stream",
     "text": [
      "[ 17.   199.   122.    99.   846.    67.1    2.42  81.     1.  ]\n"
     ]
    }
   ],
   "source": [
    "MinMaxScaler(copy=True, feature_range=(0, 1))\n",
    "print(scaler.data_max_)"
   ]
  },
  {
   "cell_type": "code",
   "execution_count": 20,
   "id": "d73544be",
   "metadata": {},
   "outputs": [
    {
     "name": "stdout",
     "output_type": "stream",
     "text": [
      "[[0.353 0.744 0.59  ... 0.234 0.483 1.   ]\n",
      " [0.059 0.427 0.541 ... 0.117 0.167 0.   ]\n",
      " [0.471 0.92  0.525 ... 0.254 0.183 1.   ]\n",
      " ...\n",
      " [0.294 0.608 0.59  ... 0.071 0.15  0.   ]\n",
      " [0.059 0.633 0.492 ... 0.116 0.433 1.   ]\n",
      " [0.059 0.467 0.574 ... 0.101 0.033 0.   ]]\n"
     ]
    }
   ],
   "source": [
    "print(scaler.transform(df))"
   ]
  },
  {
   "cell_type": "code",
   "execution_count": 21,
   "id": "7e927610",
   "metadata": {},
   "outputs": [
    {
     "name": "stdout",
     "output_type": "stream",
     "text": [
      "RobustScaler()\n",
      "[[ 0.6    0.752  0.    ...  0.172  0.665  1.235]\n",
      " [-0.4   -0.776 -0.333 ... -0.581 -0.056  0.118]\n",
      " [ 1.     1.6   -0.444 ... -0.935  0.783  0.176]\n",
      " ...\n",
      " [ 0.4    0.097  0.    ... -0.624 -0.333  0.059]\n",
      " [-0.4    0.218 -0.667 ... -0.204 -0.061  1.059]\n",
      " [-0.4   -0.582 -0.111 ... -0.172 -0.15  -0.353]]\n"
     ]
    }
   ],
   "source": [
    "# RobustScaler\n",
    "from sklearn.preprocessing import RobustScaler\n",
    "\n",
    "transformer = RobustScaler().fit(X)\n",
    "print(transformer)\n",
    "RobustScaler(copy=True, quantile_range=(25.0, 75.0), with_centering=True,\n",
    "with_scaling=True)\n",
    "print(transformer.transform(X))"
   ]
  },
  {
   "cell_type": "code",
   "execution_count": 22,
   "id": "94b69850",
   "metadata": {},
   "outputs": [
    {
     "name": "stdout",
     "output_type": "stream",
     "text": [
      "StandardScaler()\n",
      "[  3.845 120.895  69.105  20.536  79.799  31.993   0.472  33.241   0.349]\n",
      "[[ 0.64   0.848  0.15  ...  0.468  1.426  1.366]\n",
      " [-0.845 -1.123 -0.161 ... -0.365 -0.191 -0.732]\n",
      " [ 1.234  1.944 -0.264 ...  0.604 -0.106  1.366]\n",
      " ...\n",
      " [ 0.343  0.003  0.15  ... -0.685 -0.276 -0.732]\n",
      " [-0.845  0.16  -0.471 ... -0.371  1.171  1.366]\n",
      " [-0.845 -0.873  0.046 ... -0.474 -0.871 -0.732]]\n"
     ]
    }
   ],
   "source": [
    "#StandardScaler\n",
    "from sklearn.preprocessing import StandardScaler\n",
    "\n",
    "scaler = StandardScaler()\n",
    "print(scaler.fit(df))\n",
    "print(scaler.mean_)\n",
    "print(scaler.transform(df))"
   ]
  },
  {
   "cell_type": "markdown",
   "id": "a45a69b8",
   "metadata": {},
   "source": [
    "# Partie 2 (Classification choix de algorithme adéquat ):  "
   ]
  },
  {
   "cell_type": "markdown",
   "id": "49167b53",
   "metadata": {},
   "source": [
    "1. En utilisant l’API sklearn entraîner les modèles en utilisant ces algorithmes « KNN, Decision Tree, ANN,\n",
    "Naive Bayes, SVM selon les kernels suivants : Linear, polynomial et guassain»."
   ]
  },
  {
   "cell_type": "markdown",
   "id": "96083548",
   "metadata": {},
   "source": [
    "# KNN"
   ]
  },
  {
   "cell_type": "code",
   "execution_count": 25,
   "id": "e317c979",
   "metadata": {},
   "outputs": [],
   "source": [
    "from sklearn.model_selection import train_test_split\n",
    "X_train, X_test, Y_train, Y_test = train_test_split(X, Y, test_size=0.2, random_state=0)"
   ]
  },
  {
   "cell_type": "code",
   "execution_count": 26,
   "id": "1f4b0a4e",
   "metadata": {},
   "outputs": [
    {
     "data": {
      "text/plain": [
       "KNeighborsClassifier(n_neighbors=10)"
      ]
     },
     "execution_count": 26,
     "metadata": {},
     "output_type": "execute_result"
    }
   ],
   "source": [
    "from sklearn.neighbors import KNeighborsClassifier\n",
    "knn = KNeighborsClassifier(n_neighbors=10)\n",
    "knn.fit(X_train, Y_train)"
   ]
  },
  {
   "cell_type": "code",
   "execution_count": 27,
   "id": "2b38d3ab",
   "metadata": {},
   "outputs": [
    {
     "data": {
      "text/plain": [
       "Text(0, 0.5, 'Accuracy')"
      ]
     },
     "execution_count": 27,
     "metadata": {},
     "output_type": "execute_result"
    },
    {
     "data": {
      "image/png": "[encoded data removed]",
      "text/plain": [
       "<Figure size 720x432 with 1 Axes>"
      ]
     },
     "metadata": {
      "needs_background": "light"
     },
     "output_type": "display_data"
    }
   ],
   "source": [
    "#how to choice the K (I tried many values and I found that 14 is the best -> acc=79,22%)\n",
    "acc = []\n",
    "from sklearn import metrics\n",
    "for i in range(1,30):\n",
    "    neigh = KNeighborsClassifier(n_neighbors = i).fit(X_train,Y_train)\n",
    "    yhat = neigh.predict(X_test) \n",
    "    acc.append(metrics.accuracy_score(Y_test, yhat))\n",
    "\n",
    "plt.figure(figsize=(10,6))\n",
    "plt.plot(range(1,30),acc,color = 'red',linestyle='dashed',marker='o',markerfacecolor='blue', markersize=10)\n",
    "plt.title('accuracy vs. K Value')\n",
    "plt.xlabel('K')\n",
    "plt.ylabel('Accuracy')  "
   ]
  },
  {
   "cell_type": "markdown",
   "id": "695a496a",
   "metadata": {},
   "source": [
    "# Decision Tree"
   ]
  },
  {
   "cell_type": "code",
   "execution_count": 28,
   "id": "a259f829",
   "metadata": {},
   "outputs": [
    {
     "data": {
      "text/plain": [
       "DecisionTreeClassifier(random_state=0)"
      ]
     },
     "execution_count": 28,
     "metadata": {},
     "output_type": "execute_result"
    }
   ],
   "source": [
    "from sklearn.tree import DecisionTreeClassifier\n",
    "clf = DecisionTreeClassifier(random_state=0)\n",
    "clf.fit(X_train, Y_train)"
   ]
  },
  {
   "cell_type": "markdown",
   "id": "48222427",
   "metadata": {},
   "source": [
    "# ANN"
   ]
  },
  {
   "cell_type": "code",
   "execution_count": 29,
   "id": "342c76c2",
   "metadata": {},
   "outputs": [
    {
     "data": {
      "text/plain": [
       "MLPClassifier(hidden_layer_sizes=(10,), max_iter=1000, random_state=0)"
      ]
     },
     "execution_count": 29,
     "metadata": {},
     "output_type": "execute_result"
    }
   ],
   "source": [
    "from sklearn.neural_network import MLPClassifier\n",
    "ann = MLPClassifier(hidden_layer_sizes=(10,), max_iter=1000, alpha=1e-4,solver='adam', random_state=0, learning_rate_init=0.001)\n",
    "ann.fit(X_train, Y_train)"
   ]
  },
  {
   "cell_type": "markdown",
   "id": "cef42501",
   "metadata": {},
   "source": [
    "# Naive Bayes"
   ]
  },
  {
   "cell_type": "code",
   "execution_count": 30,
   "id": "4c57bbf6",
   "metadata": {},
   "outputs": [
    {
     "data": {
      "text/plain": [
       "GaussianNB()"
      ]
     },
     "execution_count": 30,
     "metadata": {},
     "output_type": "execute_result"
    }
   ],
   "source": [
    "from sklearn.naive_bayes import GaussianNB\n",
    "nb = GaussianNB()\n",
    "nb.fit(X_train, Y_train)"
   ]
  },
  {
   "cell_type": "markdown",
   "id": "dd19383c",
   "metadata": {},
   "source": [
    "# Linear SVM"
   ]
  },
  {
   "cell_type": "code",
   "execution_count": 31,
   "id": "6dcefa1d",
   "metadata": {},
   "outputs": [
    {
     "data": {
      "text/plain": [
       "LinearSVC()"
      ]
     },
     "execution_count": 31,
     "metadata": {},
     "output_type": "execute_result"
    }
   ],
   "source": [
    "from sklearn.svm import LinearSVC\n",
    "\n",
    "lsvm = LinearSVC()\n",
    "lsvm.fit(X_train, Y_train)"
   ]
  },
  {
   "cell_type": "markdown",
   "id": "9f855855",
   "metadata": {},
   "source": [
    "# polynomial SVM  "
   ]
  },
  {
   "cell_type": "code",
   "execution_count": 32,
   "id": "ab435c01",
   "metadata": {},
   "outputs": [
    {
     "data": {
      "text/plain": [
       "SVC(kernel='poly')"
      ]
     },
     "execution_count": 32,
     "metadata": {},
     "output_type": "execute_result"
    }
   ],
   "source": [
    "from sklearn.svm import SVC\n",
    "\n",
    "psvm = SVC(kernel='poly', degree=3)\n",
    "psvm.fit(X_train, Y_train)"
   ]
  },
  {
   "cell_type": "markdown",
   "id": "463de49b",
   "metadata": {},
   "source": [
    "# gaussian SVM "
   ]
  },
  {
   "cell_type": "code",
   "execution_count": 33,
   "id": "ac3e63e7",
   "metadata": {},
   "outputs": [
    {
     "data": {
      "text/plain": [
       "SVC()"
      ]
     },
     "execution_count": 33,
     "metadata": {},
     "output_type": "execute_result"
    }
   ],
   "source": [
    "gsvm = SVC(kernel='rbf')\n",
    "gsvm.fit(X_train, Y_train)"
   ]
  },
  {
   "cell_type": "markdown",
   "id": "695dbd88",
   "metadata": {},
   "source": [
    "2. Sauvegarder les 7 modèles"
   ]
  },
  {
   "cell_type": "code",
   "execution_count": 34,
   "id": "c37bb9a7",
   "metadata": {},
   "outputs": [
    {
     "data": {
      "text/plain": [
       "['gsvm.joblib']"
      ]
     },
     "execution_count": 34,
     "metadata": {},
     "output_type": "execute_result"
    }
   ],
   "source": [
    "from joblib import dump, load\n",
    "\n",
    "# Sauvegarde les modèles\n",
    "dump(knn, 'knn.joblib')\n",
    "dump(clf, 'clf.joblib')\n",
    "dump(ann, 'ann.joblib')\n",
    "dump(nb, 'nb.joblib')\n",
    "dump(lsvm, 'lsvm.joblib')\n",
    "dump(psvm, 'psvm.joblib')\n",
    "dump(gsvm, 'gsvm.joblib')"
   ]
  },
  {
   "cell_type": "markdown",
   "id": "4afa33c5",
   "metadata": {},
   "source": [
    "3. Charger les 7 modèles puis Prédire les données du data set de test, en utilisant les 7 modèles."
   ]
  },
  {
   "cell_type": "code",
   "execution_count": 36,
   "id": "de0475f0",
   "metadata": {},
   "outputs": [],
   "source": [
    "# Chargement des modèles\n",
    "knn = load('knn.joblib')\n",
    "clf = load('clf.joblib')\n",
    "ann = load('ann.joblib')\n",
    "nb = load('nb.joblib')\n",
    "lsvm = load('lsvm.joblib')\n",
    "psvm = load('psvm.joblib')\n",
    "gsvm = load('gsvm.joblib')"
   ]
  },
  {
   "cell_type": "code",
   "execution_count": 41,
   "id": "01beb989",
   "metadata": {},
   "outputs": [
    {
     "name": "stdout",
     "output_type": "stream",
     "text": [
      "_________________________KNN Prediction_______________________________\n",
      "[1. 0. 0. 1. 0. 0. 1. 1. 0. 0. 1. 1. 0. 0. 0. 0. 1. 0. 0. 0. 0. 0. 0. 0.\n",
      " 0. 0. 0. 1. 0. 0. 1. 0. 0. 0. 0. 1. 1. 0. 0. 1. 0. 0. 0. 1. 1. 0. 0. 0.\n",
      " 0. 0. 0. 0. 0. 0. 0. 0. 0. 0. 0. 0. 1. 0. 0. 1. 1. 1. 1. 0. 1. 0. 0. 0.\n",
      " 0. 1. 1. 0. 0. 1. 0. 0. 1. 0. 0. 0. 0. 0. 0. 0. 1. 0. 0. 0. 0. 0. 0. 0.\n",
      " 0. 0. 0. 1. 0. 0. 0. 0. 0. 0. 0. 0. 0. 1. 0. 0. 0. 0. 1. 1. 0. 1. 0. 1.\n",
      " 0. 1. 0. 0. 0. 0. 0. 0. 0. 1. 0. 0. 0. 1. 0. 0. 0. 0. 1. 0. 0. 1. 0. 0.\n",
      " 1. 0. 0. 0. 0. 0. 0. 0. 0. 0.]\n",
      "_________________________DT Prediction_______________________________\n",
      "[1. 0. 0. 1. 0. 0. 1. 0. 0. 1. 1. 0. 0. 0. 0. 1. 1. 0. 0. 0. 1. 0. 0. 1.\n",
      " 0. 1. 0. 0. 0. 0. 0. 0. 1. 0. 0. 1. 0. 0. 1. 1. 1. 0. 0. 1. 0. 0. 0. 0.\n",
      " 1. 0. 1. 1. 1. 1. 0. 0. 0. 1. 0. 0. 0. 1. 0. 1. 1. 1. 0. 0. 0. 0. 0. 0.\n",
      " 0. 1. 1. 0. 1. 1. 0. 0. 1. 0. 0. 0. 0. 0. 0. 0. 1. 0. 1. 0. 0. 0. 0. 0.\n",
      " 0. 0. 1. 1. 0. 0. 0. 0. 1. 1. 0. 0. 0. 1. 0. 1. 1. 1. 1. 0. 0. 0. 0. 1.\n",
      " 0. 0. 0. 1. 0. 0. 0. 1. 0. 0. 0. 0. 0. 1. 0. 1. 0. 1. 1. 0. 0. 1. 0. 0.\n",
      " 1. 0. 0. 0. 0. 0. 0. 0. 0. 0.]\n",
      "_________________________ANN Prediction_______________________________\n",
      "[0. 0. 0. 1. 0. 0. 1. 1. 1. 0. 0. 1. 0. 0. 0. 0. 1. 0. 0. 0. 0. 0. 1. 0.\n",
      " 0. 0. 0. 1. 0. 0. 1. 0. 0. 1. 0. 1. 0. 0. 1. 1. 0. 0. 0. 0. 0. 0. 0. 0.\n",
      " 0. 0. 1. 0. 1. 0. 1. 0. 0. 0. 0. 0. 0. 1. 0. 1. 1. 1. 1. 0. 1. 0. 0. 1.\n",
      " 0. 1. 1. 0. 0. 1. 0. 0. 0. 0. 0. 0. 0. 0. 1. 1. 1. 0. 0. 0. 1. 0. 0. 0.\n",
      " 0. 1. 0. 0. 1. 0. 0. 0. 1. 1. 0. 0. 0. 1. 0. 0. 1. 0. 1. 1. 0. 1. 0. 0.\n",
      " 0. 0. 0. 1. 0. 0. 0. 0. 1. 0. 1. 0. 0. 1. 0. 0. 0. 0. 1. 1. 0. 1. 0. 0.\n",
      " 0. 0. 0. 0. 0. 0. 0. 0. 0. 0.]\n",
      "_________________________NB Prediction_______________________________\n",
      "[1. 0. 0. 1. 0. 0. 1. 1. 1. 0. 1. 1. 0. 1. 0. 0. 1. 0. 0. 0. 1. 0. 0. 0.\n",
      " 0. 0. 0. 1. 0. 0. 0. 0. 0. 0. 0. 1. 1. 0. 0. 1. 0. 0. 0. 1. 1. 0. 0. 0.\n",
      " 0. 0. 0. 0. 1. 1. 0. 0. 0. 0. 0. 0. 1. 1. 0. 1. 1. 1. 1. 0. 0. 0. 0. 0.\n",
      " 0. 1. 1. 0. 0. 1. 0. 0. 0. 0. 0. 0. 0. 0. 0. 0. 1. 0. 0. 0. 0. 0. 1. 0.\n",
      " 0. 1. 1. 0. 0. 0. 0. 0. 1. 0. 0. 0. 0. 1. 0. 0. 1. 1. 1. 1. 0. 1. 0. 1.\n",
      " 0. 1. 0. 1. 0. 0. 0. 0. 0. 0. 0. 0. 0. 1. 0. 0. 0. 0. 1. 0. 0. 0. 0. 0.\n",
      " 0. 0. 0. 0. 0. 0. 0. 0. 0. 0.]\n",
      "_________________________LSVM Prediction_______________________________\n",
      "[1. 1. 0. 1. 0. 0. 1. 1. 1. 1. 1. 1. 0. 1. 0. 0. 1. 0. 0. 1. 0. 0. 0. 0.\n",
      " 1. 0. 0. 1. 0. 0. 1. 0. 0. 1. 0. 1. 1. 0. 1. 1. 1. 0. 0. 1. 1. 0. 0. 1.\n",
      " 1. 0. 0. 1. 1. 0. 1. 0. 0. 0. 0. 1. 1. 1. 0. 1. 1. 1. 0. 0. 0. 0. 0. 1.\n",
      " 0. 1. 1. 0. 0. 1. 0. 0. 0. 1. 1. 0. 0. 0. 0. 1. 1. 1. 0. 0. 1. 0. 1. 0.\n",
      " 1. 1. 1. 0. 1. 1. 0. 0. 0. 0. 1. 0. 0. 1. 0. 1. 0. 0. 1. 0. 1. 1. 0. 1.\n",
      " 0. 0. 1. 0. 1. 0. 1. 0. 0. 0. 1. 0. 0. 1. 1. 0. 0. 0. 1. 0. 0. 1. 0. 0.\n",
      " 0. 0. 0. 0. 0. 1. 0. 0. 1. 0.]\n",
      "_________________________PSVM Prediction_______________________________\n",
      "[1. 0. 0. 1. 0. 0. 1. 1. 0. 0. 1. 1. 0. 0. 0. 0. 1. 0. 0. 0. 1. 0. 0. 0.\n",
      " 0. 0. 0. 1. 0. 0. 0. 0. 0. 0. 0. 1. 0. 0. 0. 1. 0. 0. 0. 1. 1. 0. 0. 0.\n",
      " 0. 0. 0. 0. 1. 0. 0. 0. 0. 0. 0. 0. 1. 0. 0. 0. 1. 1. 1. 0. 0. 0. 0. 0.\n",
      " 0. 1. 1. 0. 0. 1. 0. 0. 0. 0. 0. 0. 0. 0. 0. 0. 1. 0. 0. 0. 0. 0. 1. 0.\n",
      " 0. 1. 1. 0. 0. 0. 0. 0. 0. 0. 0. 0. 0. 1. 0. 0. 1. 0. 0. 1. 0. 1. 0. 0.\n",
      " 0. 0. 0. 0. 0. 0. 0. 0. 0. 1. 0. 0. 0. 1. 0. 0. 0. 0. 0. 0. 0. 1. 0. 0.\n",
      " 0. 0. 0. 0. 0. 0. 0. 1. 0. 0.]\n",
      "_________________________GSVM Prediction_______________________________\n",
      "[1. 0. 0. 1. 0. 0. 1. 1. 0. 0. 1. 1. 0. 0. 0. 0. 1. 0. 0. 0. 1. 0. 0. 0.\n",
      " 0. 0. 0. 1. 0. 0. 0. 0. 0. 0. 0. 1. 0. 0. 0. 1. 0. 0. 0. 1. 1. 0. 0. 0.\n",
      " 0. 0. 0. 0. 1. 0. 0. 0. 0. 0. 0. 0. 1. 0. 0. 1. 1. 1. 1. 0. 0. 0. 0. 0.\n",
      " 0. 1. 1. 0. 0. 1. 0. 0. 0. 0. 0. 0. 0. 0. 0. 0. 1. 0. 0. 0. 0. 0. 1. 0.\n",
      " 0. 1. 0. 0. 0. 0. 0. 0. 0. 0. 0. 0. 0. 1. 0. 0. 0. 0. 1. 1. 0. 1. 0. 0.\n",
      " 0. 0. 0. 0. 0. 0. 0. 0. 0. 1. 0. 0. 0. 1. 0. 0. 0. 0. 1. 0. 0. 1. 0. 0.\n",
      " 0. 0. 0. 0. 0. 0. 0. 0. 0. 0.]\n"
     ]
    }
   ],
   "source": [
    "print(\"_________________________KNN Prediction_______________________________\")\n",
    "knn_pred=knn.predict(X_test)\n",
    "print(knn_pred)\n",
    "print(\"_________________________DT Prediction_______________________________\")\n",
    "clf_pred=clf.predict(X_test)\n",
    "print(clf_pred)\n",
    "print(\"_________________________ANN Prediction_______________________________\")\n",
    "ann_pred=ann.predict(X_test)\n",
    "print(ann_pred)\n",
    "print(\"_________________________NB Prediction_______________________________\")\n",
    "nb_pred=nb.predict(X_test)\n",
    "print(nb_pred)\n",
    "print(\"_________________________LSVM Prediction_______________________________\")\n",
    "lsvm_pred=lsvm.predict(X_test)\n",
    "print(lsvm_pred)\n",
    "print(\"_________________________PSVM Prediction_______________________________\")\n",
    "psvm_pred=psvm.predict(X_test)\n",
    "print(psvm_pred)\n",
    "print(\"_________________________GSVM Prediction_______________________________\")\n",
    "gsvm_pred=gsvm.predict(X_test)\n",
    "print(gsvm_pred)"
   ]
  },
  {
   "cell_type": "markdown",
   "id": "82475e34",
   "metadata": {},
   "source": [
    "3. Évaluer les modèles en utilisant ces métriques:\n",
    "\n",
    "Classification Accuracy.\n",
    "Logarithmic Loss.\n",
    "Area Under ROC Curve.\n",
    "Confusion Matrix.\n",
    "Classification Report."
   ]
  },
  {
   "cell_type": "code",
   "execution_count": 42,
   "id": "49d6b245",
   "metadata": {},
   "outputs": [],
   "source": [
    "from sklearn.metrics import classification_report, confusion_matrix, accuracy_score, log_loss, roc_auc_score"
   ]
  },
  {
   "cell_type": "code",
   "execution_count": 47,
   "id": "01bf3500",
   "metadata": {
    "scrolled": false
   },
   "outputs": [
    {
     "name": "stdout",
     "output_type": "stream",
     "text": [
      "KNN :\n",
      "Accuracy : 79.22077922077922\n",
      "confusion_matrix : \n",
      " [[96 11]\n",
      " [21 26]]\n",
      "classification_report : \n",
      "               precision    recall  f1-score   support\n",
      "\n",
      "         0.0       0.82      0.90      0.86       107\n",
      "         1.0       0.70      0.55      0.62        47\n",
      "\n",
      "    accuracy                           0.79       154\n",
      "   macro avg       0.76      0.73      0.74       154\n",
      "weighted avg       0.78      0.79      0.78       154\n",
      "\n",
      "ROC AUC Score: 0.7251938755219726\n",
      "Logarithmic Loss: 7.176945715642038\n",
      "--------------------------------------------------------------------\n",
      "DT :\n",
      "Accuracy : 76.62337662337663\n",
      "confusion_matrix : \n",
      " [[87 20]\n",
      " [16 31]]\n",
      "classification_report : \n",
      "               precision    recall  f1-score   support\n",
      "\n",
      "         0.0       0.84      0.81      0.83       107\n",
      "         1.0       0.61      0.66      0.63        47\n",
      "\n",
      "    accuracy                           0.77       154\n",
      "   macro avg       0.73      0.74      0.73       154\n",
      "weighted avg       0.77      0.77      0.77       154\n",
      "\n",
      "ROC AUC Score: 0.7363292901173195\n",
      "Logarithmic Loss: 8.074103520554472\n",
      "--------------------------------------------------------------------\n",
      "ANN :\n",
      "Accuracy : 66.88311688311688\n",
      "confusion_matrix : \n",
      " [[82 25]\n",
      " [26 21]]\n",
      "classification_report : \n",
      "               precision    recall  f1-score   support\n",
      "\n",
      "         0.0       0.76      0.77      0.76       107\n",
      "         1.0       0.46      0.45      0.45        47\n",
      "\n",
      "    accuracy                           0.67       154\n",
      "   macro avg       0.61      0.61      0.61       154\n",
      "weighted avg       0.67      0.67      0.67       154\n",
      "\n",
      "ROC AUC Score: 0.6065818254126069\n",
      "Logarithmic Loss: 11.438296013481816\n",
      "--------------------------------------------------------------------\n",
      "NB :\n",
      "Accuracy : 79.22077922077922\n",
      "confusion_matrix : \n",
      " [[93 14]\n",
      " [18 29]]\n",
      "classification_report : \n",
      "               precision    recall  f1-score   support\n",
      "\n",
      "         0.0       0.84      0.87      0.85       107\n",
      "         1.0       0.67      0.62      0.64        47\n",
      "\n",
      "    accuracy                           0.79       154\n",
      "   macro avg       0.76      0.74      0.75       154\n",
      "weighted avg       0.79      0.79      0.79       154\n",
      "\n",
      "ROC AUC Score: 0.7430900775502088\n",
      "Logarithmic Loss: 7.1769612922153545\n",
      "--------------------------------------------------------------------\n",
      "SVM Lieaire : \n",
      "Accuracy : 64.93506493506493\n",
      "confusion_matrix : \n",
      " [[70 37]\n",
      " [17 30]]\n",
      "classification_report : \n",
      "               precision    recall  f1-score   support\n",
      "\n",
      "         0.0       0.80      0.65      0.72       107\n",
      "         1.0       0.45      0.64      0.53        47\n",
      "\n",
      "    accuracy                           0.65       154\n",
      "   macro avg       0.63      0.65      0.62       154\n",
      "weighted avg       0.70      0.65      0.66       154\n",
      "\n",
      "ROC AUC Score: 0.6462517399085306\n",
      "Logarithmic Loss: 12.111191626169441\n",
      "--------------------------------------------------------------------\n",
      "SVM polynomial :\n",
      "Accuracy : \n",
      " 79.22077922077922\n",
      "confusion_matrix : \n",
      " [[98  9]\n",
      " [23 24]]\n",
      "classification_report : \n",
      "               precision    recall  f1-score   support\n",
      "\n",
      "         0.0       0.81      0.92      0.86       107\n",
      "         1.0       0.73      0.51      0.60        47\n",
      "\n",
      "    accuracy                           0.79       154\n",
      "   macro avg       0.77      0.71      0.73       154\n",
      "weighted avg       0.78      0.79      0.78       154\n",
      "\n",
      "ROC AUC Score: 0.7132630741698149\n",
      "Logarithmic Loss: 7.17693533125983\n",
      "-------------------------------------------------------------------\n",
      "SVM gaussian :\n",
      "Accuracy : 79.22077922077922\n",
      "confusion_matrix : \n",
      " [[98  9]\n",
      " [23 24]]\n",
      "classification_report : \n",
      "               precision    recall  f1-score   support\n",
      "\n",
      "         0.0       0.81      0.92      0.86       107\n",
      "         1.0       0.73      0.51      0.60        47\n",
      "\n",
      "    accuracy                           0.79       154\n",
      "   macro avg       0.77      0.71      0.73       154\n",
      "weighted avg       0.78      0.79      0.78       154\n",
      "\n",
      "ROC AUC Score: 0.7132630741698149\n",
      "Logarithmic Loss: 7.17693533125983\n"
     ]
    }
   ],
   "source": [
    "print(\"KNN :\")\n",
    "print(\"Accuracy :\",metrics.accuracy_score(Y_test, knn_pred)*100)\n",
    "print(\"confusion_matrix : \\n\",  confusion_matrix(Y_test, knn_pred))\n",
    "print(\"classification_report : \\n\", classification_report(Y_test, knn_pred))\n",
    "print(\"ROC AUC Score:\", roc_auc_score(Y_test, knn_pred))\n",
    "print(\"Logarithmic Loss:\", log_loss(Y_test, knn_pred))\n",
    "\n",
    "print(\"--------------------------------------------------------------------\")\n",
    "print(\"DT :\")\n",
    "print(\"Accuracy :\",metrics.accuracy_score(Y_test, clf_pred)*100)\n",
    "print(\"confusion_matrix : \\n\",  confusion_matrix(Y_test, clf_pred))\n",
    "print(\"classification_report : \\n\", classification_report(Y_test, clf_pred))\n",
    "print(\"ROC AUC Score:\", roc_auc_score(Y_test, clf_pred))\n",
    "print(\"Logarithmic Loss:\", log_loss(Y_test, clf_pred))\n",
    "\n",
    "print(\"--------------------------------------------------------------------\")\n",
    "print(\"ANN :\")\n",
    "print(\"Accuracy :\",metrics.accuracy_score(Y_test, ann_pred)*100)\n",
    "print(\"confusion_matrix : \\n\",  confusion_matrix(Y_test, ann_pred))\n",
    "print(\"classification_report : \\n\", classification_report(Y_test, ann_pred))\n",
    "print(\"ROC AUC Score:\", roc_auc_score(Y_test, ann_pred))\n",
    "print(\"Logarithmic Loss:\", log_loss(Y_test, ann_pred))\n",
    "\n",
    "print(\"--------------------------------------------------------------------\")\n",
    "print(\"NB :\")\n",
    "print(\"Accuracy :\",metrics.accuracy_score(Y_test, nb_pred)*100)\n",
    "print(\"confusion_matrix : \\n\",  confusion_matrix(Y_test, nb_pred))\n",
    "print(\"classification_report : \\n\", classification_report(Y_test, nb_pred))\n",
    "print(\"ROC AUC Score:\", roc_auc_score(Y_test, nb_pred))\n",
    "print(\"Logarithmic Loss:\", log_loss(Y_test, nb_pred))\n",
    "\n",
    "print(\"--------------------------------------------------------------------\")\n",
    "print(\"SVM Lieaire : \")\n",
    "print(\"Accuracy :\",metrics.accuracy_score(Y_test, lsvm_pred)*100)\n",
    "print(\"confusion_matrix : \\n\",  confusion_matrix(Y_test, lsvm_pred))\n",
    "print(\"classification_report : \\n\", classification_report(Y_test, lsvm_pred))\n",
    "print(\"ROC AUC Score:\", roc_auc_score(Y_test, lsvm_pred))\n",
    "print(\"Logarithmic Loss:\", log_loss(Y_test, lsvm_pred))\n",
    "\n",
    "print(\"--------------------------------------------------------------------\")\n",
    "print(\"SVM polynomial :\")\n",
    "print(\"Accuracy : \\n\",metrics.accuracy_score(Y_test, psvm_pred)*100)\n",
    "print(\"confusion_matrix : \\n\",  confusion_matrix(Y_test, psvm_pred))\n",
    "print(\"classification_report : \\n\", classification_report(Y_test, psvm_pred))\n",
    "print(\"ROC AUC Score:\", roc_auc_score(Y_test, psvm_pred))\n",
    "print(\"Logarithmic Loss:\", log_loss(Y_test, psvm_pred))\n",
    "\n",
    "print(\"-------------------------------------------------------------------\")\n",
    "print(\"SVM gaussian :\")\n",
    "print(\"Accuracy :\",metrics.accuracy_score(Y_test, gsvm_pred)*100)\n",
    "print(\"confusion_matrix : \\n\",  confusion_matrix(Y_test, gsvm_pred))\n",
    "print(\"classification_report : \\n\", classification_report(Y_test, gsvm_pred))\n",
    "print(\"ROC AUC Score:\", roc_auc_score(Y_test, gsvm_pred))\n",
    "print(\"Logarithmic Loss:\", log_loss(Y_test, gsvm_pred))\n"
   ]
  },
  {
   "cell_type": "markdown",
   "id": "f316a210",
   "metadata": {},
   "source": [
    "4. Comparer la performance des 8 algorithmes en utilisant la technique Spot-checking."
   ]
  },
  {
   "cell_type": "markdown",
   "id": "6ac20fd2",
   "metadata": {},
   "source": [
    "On peut bien remarquer que l’ordre décroissant de la performance des 7 algorithmes (du plus\n",
    "performant au moins performant) est :\n",
    "\n",
    "Naive Bayes (79.22%)\n",
    "\n",
    "KNN (79.22%)\n",
    "\n",
    "Polynomial SVM (79.22%)\n",
    "\n",
    "Gaussian SVM (79.22%)\n",
    "\n",
    "Décision Tree(76.6%) \n",
    "\n",
    "ANN (66.8%)\n",
    "\n",
    "Linear SVM (64.9%)"
   ]
  },
  {
   "cell_type": "markdown",
   "id": "b4bd9069",
   "metadata": {},
   "source": [
    "5. Appliquer cette fois les trois techniques d’ensemble learning « bagging , stacking et boosting »"
   ]
  },
  {
   "cell_type": "code",
   "execution_count": 63,
   "id": "1938d501",
   "metadata": {},
   "outputs": [
    {
     "name": "stdout",
     "output_type": "stream",
     "text": [
      "KNeighborsClassifier\n",
      "Accuracy: 0.79\n",
      "SVC\n",
      "Accuracy: 0.79\n",
      "GaussianNB\n",
      "Accuracy: 0.79\n",
      "MLPClassifier\n",
      "Accuracy: 0.67\n",
      "LinearSVC\n",
      "Accuracy: 0.71\n",
      "SVC\n",
      "Accuracy: 0.79\n",
      "SVC\n",
      "Accuracy: 0.79\n"
     ]
    }
   ],
   "source": [
    "#stacking\n",
    "from sklearn.ensemble import StackingClassifier\n",
    "models=[knn,clf,nb,ann,lsvm,psvm,gsvm ]\n",
    "sclf = StackingClassifier(estimators=models ,final_estimator=LogisticRegression())\n",
    "\n",
    "for cl in models:\n",
    "    cl.fit(X_train, Y_train)\n",
    "    \n",
    "for cl in models:\n",
    "    print(cl.__class__.__name__)\n",
    "    print(\"Accuracy: %0.2f\" % cl.score(X_test, Y_test))"
   ]
  },
  {
   "cell_type": "code",
   "execution_count": 64,
   "id": "2ed64357",
   "metadata": {},
   "outputs": [
    {
     "name": "stdout",
     "output_type": "stream",
     "text": [
      "KNeighborsClassifier\n",
      "Accuracy: 0.79\n",
      "SVC\n",
      "Accuracy: 0.79\n",
      "GaussianNB\n",
      "Accuracy: 0.79\n",
      "MLPClassifier\n",
      "Accuracy: 0.67\n",
      "LinearSVC\n",
      "Accuracy: 0.69\n",
      "SVC\n",
      "Accuracy: 0.79\n",
      "SVC\n",
      "Accuracy: 0.79\n"
     ]
    }
   ],
   "source": [
    "#bagging\n",
    "from sklearn.ensemble import BaggingClassifier\n",
    "models=[knn,clf,nb,ann,lsvm,psvm,gsvm ]\n",
    "bag_cls = BaggingClassifier(base_estimator=models, n_estimators=10, random_state=42)\n",
    "\n",
    "for bag_clf in models:\n",
    "    bag_clf.fit(X_train, Y_train)\n",
    "    \n",
    "for bag_clf in models:\n",
    "    print(bag_clf.__class__.__name__)\n",
    "    print(\"Accuracy: %0.2f\" % bag_clf.score(X_test, Y_test))"
   ]
  },
  {
   "cell_type": "markdown",
   "id": "cdd379ad",
   "metadata": {},
   "source": [
    "6. Comparer les résultats obtenues des trois techniques avec les résultats de 7 algorithmes."
   ]
  },
  {
   "cell_type": "markdown",
   "id": "916b1220",
   "metadata": {},
   "source": [
    "Les résultats obtenus par les trois techniques et les 7 algorithmes sont proches"
   ]
  }
 ],
 "metadata": {
  "kernelspec": {
   "display_name": "Python 3 (ipykernel)",
   "language": "python",
   "name": "python3"
  },
  "language_info": {
   "codemirror_mode": {
    "name": "ipython",
    "version": 3
   },
   "file_extension": ".py",
   "mimetype": "text/x-python",
   "name": "python",
   "nbconvert_exporter": "python",
   "pygments_lexer": "ipython3",
   "version": "3.9.13"
  }
 },
 "nbformat": 4,
 "nbformat_minor": 5
}
